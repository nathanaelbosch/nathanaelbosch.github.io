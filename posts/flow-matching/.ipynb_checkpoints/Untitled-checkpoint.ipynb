{
 "cells": [
  {
   "cell_type": "markdown",
   "id": "b51f447c-0d61-4c43-889c-dd7f41a8f997",
   "metadata": {},
   "source": [
    "# Flow Matching Guide and Code in Julia"
   ]
  },
  {
   "cell_type": "markdown",
   "id": "01637e80-da44-4a29-aa26-7771c3d1d943",
   "metadata": {},
   "source": [
    "Given: Training dataset of samples from some target distribution $q$ over $\\mathbb{R}^d$.\n",
    "\n",
    "Goal: Build a model capable of generating new samples from $q$.\n",
    "\n",
    "Flow Matching addresses this by building a probaility path $(p_t)_{0 \\leq t \\leq 1}$ from a known source distribution $p_0 = p$ to the data target distribution $p_1 = q$."
   ]
  },
  {
   "cell_type": "markdown",
   "id": "d7fb8279-429a-4af0-a7b1-e7985bbfd518",
   "metadata": {},
   "source": [
    "Goal in flow matching: Learn the parameters $\\theta$ of a velocity field $u_t^\\theta$ (a NN) such that the resulting probability path $p_t$ goes from $p$ to $q$."
   ]
  },
  {
   "cell_type": "markdown",
   "id": "468d1606-edf1-4490-993a-a91f9dcd12ef",
   "metadata": {},
   "source": [
    "Let's do an example"
   ]
  },
  {
   "cell_type": "code",
   "execution_count": 12,
   "id": "fcf7eeec-f547-46f7-8503-96a39a7cc253",
   "metadata": {},
   "outputs": [],
   "source": [
    "# ]add GaussianDistributions"
   ]
  },
  {
   "cell_type": "code",
   "execution_count": 16,
   "id": "8d07b529-632c-4600-ae7f-faeab956f0d5",
   "metadata": {},
   "outputs": [],
   "source": [
    "using LinearAlgebra, Statistics\n",
    "using GaussianDistributions"
   ]
  },
  {
   "cell_type": "code",
   "execution_count": 19,
   "id": "9ed30315-7d38-42c9-bbd9-c608f0bed091",
   "metadata": {},
   "outputs": [
    {
     "data": {
      "text/plain": [
       "Gaussian{Vector{Float64}, UniformScaling{Bool}}([0.0, 0.0], UniformScaling{Bool}(true))"
      ]
     },
     "execution_count": 19,
     "metadata": {},
     "output_type": "execute_result"
    }
   ],
   "source": [
    "p0 = Gaussian(zeros(2), I)"
   ]
  },
  {
   "cell_type": "code",
   "execution_count": 20,
   "id": "694a0155-f1fc-4c55-993e-3f47debf787b",
   "metadata": {},
   "outputs": [
    {
     "data": {
      "text/plain": [
       "2-element Vector{Float64}:\n",
       " 0.2843261758642478\n",
       " 0.28922239565907554"
      ]
     },
     "execution_count": 20,
     "metadata": {},
     "output_type": "execute_result"
    }
   ],
   "source": [
    "rand(p0)"
   ]
  },
  {
   "cell_type": "code",
   "execution_count": null,
   "id": "84d94eec-1aac-4879-a0ce-f0f17da8f23e",
   "metadata": {},
   "outputs": [],
   "source": [
    "p_t_given_1(x; x1) = Gaussian("
   ]
  }
 ],
 "metadata": {
  "kernelspec": {
   "display_name": "Julia 1.11.5",
   "language": "julia",
   "name": "julia-1.11"
  },
  "language_info": {
   "file_extension": ".jl",
   "mimetype": "application/julia",
   "name": "julia",
   "version": "1.11.5"
  }
 },
 "nbformat": 4,
 "nbformat_minor": 5
}
